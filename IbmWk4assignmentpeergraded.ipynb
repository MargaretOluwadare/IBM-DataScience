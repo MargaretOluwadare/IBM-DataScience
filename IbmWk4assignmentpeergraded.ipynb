{
 "cells": [
  {
   "cell_type": "markdown",
   "id": "cca5c987-1004-4aba-a297-d81cf8e873b9",
   "metadata": {},
   "source": [
    "<h1> My Jupyter Notebook on IBM Watson Studio</h1>\n",
    "<h3> MARGARET OLUWADARE JUPYTER NOTEBOOK ON SKILL NETWORK LAB</h3>"
   ]
  },
  {
   "cell_type": "markdown",
   "id": "5ec0aa08-f02b-4016-bbb6-1300d17a6762",
   "metadata": {},
   "source": [
    "<b>Name: Margaret Oluwadare</b> <br>\n",
    "<b>Desired Job: Data Analyst/Data Scientist</b>"
   ]
  },
  {
   "cell_type": "markdown",
   "id": "414c70b6-b873-4a40-9318-d6aa7ab38b12",
   "metadata": {},
   "source": [
    "<em>My interested in data science or analytics is because I like creating insights using what may seems unimportant to teams and organizations.</em>"
   ]
  },
  {
   "cell_type": "markdown",
   "id": "6cf9bf9b-3a2d-4358-9278-667c37dd87f4",
   "metadata": {},
   "source": [
    "<h3> The next cell will run a python code that multiplies two numbers</h3>"
   ]
  },
  {
   "cell_type": "code",
   "execution_count": 4,
   "id": "f4dba04c-8b08-4a95-8b44-ddf4333c52ff",
   "metadata": {},
   "outputs": [
    {
     "name": "stdout",
     "output_type": "stream",
     "text": [
      "2760\n"
     ]
    }
   ],
   "source": [
    "a=8\n",
    "b=345\n",
    "c=a*b\n",
    "\n",
    "print(c)"
   ]
  },
  {
   "cell_type": "markdown",
   "id": "2df147f4-6969-41cb-ae98-d1cdd90c6156",
   "metadata": {},
   "source": [
    "<hr>\n",
    "<li>IBM-Data Science Courses</li>  \n",
    "<li>Advanced Machine Learning</li><ol></hr>\n",
    "<ul><li>Jupyter Notebook Assignment</li></ul>\n",
    "<a href=https://www.linkedin.com/in/margaret-oluwadare-bb655662/>My LinkedIn Profile </a>\n",
    "<table style=\\\"width:50%\\\">\n",
    "    <tr><th>Firstname</th>\n",
    "    <th>Lastname</th>\n",
    "    <th>Age</th>\n",
    "    </tr>\n",
    "    <tr> <td>Ade</td>\n",
    "        <td>Ada</td>\\n    <td>100</td>\\n  </tr>\\n  <tr>\\n    <td>Musa</td>\\n    <td>Abu</td>\\n    <td>98</td>\\n  </tr>\\n</table>"
   ]
  },
  {
   "cell_type": "code",
   "execution_count": null,
   "id": "e0016a68-05df-4339-9b9d-c3ae1aa2f903",
   "metadata": {},
   "outputs": [],
   "source": []
  }
 ],
 "metadata": {
  "kernelspec": {
   "display_name": "Python",
   "language": "python",
   "name": "conda-env-python-py"
  },
  "language_info": {
   "codemirror_mode": {
    "name": "ipython",
    "version": 3
   },
   "file_extension": ".py",
   "mimetype": "text/x-python",
   "name": "python",
   "nbconvert_exporter": "python",
   "pygments_lexer": "ipython3",
   "version": "3.7.12"
  }
 },
 "nbformat": 4,
 "nbformat_minor": 5
}
